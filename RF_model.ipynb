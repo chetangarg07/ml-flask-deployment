{
  "nbformat": 4,
  "nbformat_minor": 0,
  "metadata": {
    "colab": {
      "name": "RF-model.ipynb",
      "provenance": [],
      "mount_file_id": "https://github.com/chetangarg07/ml-flask-deployment/blob/main/RF_model.ipynb",
      "authorship_tag": "ABX9TyNSd8ll0O59l01ONg27+7nQ",
      "include_colab_link": true
    },
    "kernelspec": {
      "name": "python3",
      "display_name": "Python 3"
    }
  },
  "cells": [
    {
      "cell_type": "markdown",
      "metadata": {
        "id": "view-in-github",
        "colab_type": "text"
      },
      "source": [
        "<a href=\"https://colab.research.google.com/github/chetangarg07/ml-flask-deployment/blob/main/RF_model.ipynb\" target=\"_parent\"><img src=\"https://colab.research.google.com/assets/colab-badge.svg\" alt=\"Open In Colab\"/></a>"
      ]
    },
    {
      "cell_type": "code",
      "metadata": {
        "id": "cjjTqtuHZ6-f"
      },
      "source": [
        "from google.colab import drive\r\n",
        "drive.mount('/content/drive')"
      ],
      "execution_count": null,
      "outputs": []
    },
    {
      "cell_type": "code",
      "metadata": {
        "id": "UrV55AEyaABh"
      },
      "source": [
        "import os\r\n",
        "project_path =  '/content/drive/My Drive/pkl-files'\r\n",
        "os.chdir(project_path)"
      ],
      "execution_count": 1,
      "outputs": []
    },
    {
      "cell_type": "code",
      "metadata": {
        "id": "QS6iRsJgOxQN",
        "outputId": "54b0c860-3eec-4b6c-abca-97fe0e8f691f",
        "colab": {
          "base_uri": "https://localhost:8080/"
        }
      },
      "source": [
        "# Random Forest Classifier\r\n",
        "from sklearn.ensemble import RandomForestClassifier\r\n",
        "from sklearn.datasets import load_iris\r\n",
        "from sklearn.model_selection import train_test_split\r\n",
        "from sklearn.metrics import accuracy_score\r\n",
        "import pandas as pd\r\n",
        "\r\n",
        "# loading the dataset\r\n",
        "iris = load_iris()\r\n",
        "X = iris.data\r\n",
        "y = iris.target\r\n",
        "\r\n",
        "# Split the data\r\n",
        "X_train, X_test, y_train, y_test = train_test_split(X, y, random_state=42, test_size=0.5)\r\n",
        "\r\n",
        "# Build the model\r\n",
        "clf = RandomForestClassifier(n_estimators=10)\r\n",
        "\r\n",
        "# Train the classifier\r\n",
        "clf.fit(X_train, y_train)\r\n",
        "\r\n",
        "# Predictions\r\n",
        "predicted = clf.predict(X_test)\r\n",
        "\r\n",
        "# Check accuracy\r\n",
        "print(accuracy_score(predicted, y_test))"
      ],
      "execution_count": 2,
      "outputs": [
        {
          "output_type": "stream",
          "text": [
            "0.9733333333333334\n"
          ],
          "name": "stdout"
        }
      ]
    },
    {
      "cell_type": "code",
      "metadata": {
        "id": "dsyGDj2vP6b_"
      },
      "source": [
        "import pickle\r\n",
        "with open('rf.pkl', 'wb') as model_pkl:\r\n",
        "    pickle.dump(clf, model_pkl, protocol=2)"
      ],
      "execution_count": 3,
      "outputs": []
    }
  ]
}